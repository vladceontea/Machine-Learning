{
 "cells": [
  {
   "cell_type": "markdown",
   "id": "c523a01e",
   "metadata": {},
   "source": [
    "The variables:\n",
    "\n",
    "Hours Studied: The number of hours of study for a particular student\n",
    "\n",
    "Previous Scores: The previous performance score of a student\n",
    "\n",
    "Extracurricular Activities: Whether the student takes part or not in extracurricular activities\n",
    "\n",
    "Sleep Hours: The number of hours of sleep\n",
    "\n",
    "Sample Question Papers Practiced: The number of sample question papers the student practiced\n",
    "\n",
    "Performance Index: A measure of the overall performance of each student, ranging from 10 to 100"
   ]
  },
  {
   "cell_type": "code",
   "execution_count": 1,
   "id": "1525ec02",
   "metadata": {},
   "outputs": [],
   "source": [
    "import numpy as np \n",
    "import pandas as pd \n",
    "\n",
    "import seaborn as sns\n",
    "import matplotlib.pyplot as plt\n"
   ]
  },
  {
   "cell_type": "code",
   "execution_count": 2,
   "id": "f75d6554",
   "metadata": {},
   "outputs": [
    {
     "data": {
      "text/html": [
       "<div>\n",
       "<style scoped>\n",
       "    .dataframe tbody tr th:only-of-type {\n",
       "        vertical-align: middle;\n",
       "    }\n",
       "\n",
       "    .dataframe tbody tr th {\n",
       "        vertical-align: top;\n",
       "    }\n",
       "\n",
       "    .dataframe thead th {\n",
       "        text-align: right;\n",
       "    }\n",
       "</style>\n",
       "<table border=\"1\" class=\"dataframe\">\n",
       "  <thead>\n",
       "    <tr style=\"text-align: right;\">\n",
       "      <th></th>\n",
       "      <th>Hours Studied</th>\n",
       "      <th>Previous Scores</th>\n",
       "      <th>Extracurricular Activities</th>\n",
       "      <th>Sleep Hours</th>\n",
       "      <th>Sample Question Papers Practiced</th>\n",
       "      <th>Performance Index</th>\n",
       "    </tr>\n",
       "  </thead>\n",
       "  <tbody>\n",
       "    <tr>\n",
       "      <th>0</th>\n",
       "      <td>7</td>\n",
       "      <td>99</td>\n",
       "      <td>Yes</td>\n",
       "      <td>9</td>\n",
       "      <td>1</td>\n",
       "      <td>91.0</td>\n",
       "    </tr>\n",
       "    <tr>\n",
       "      <th>1</th>\n",
       "      <td>4</td>\n",
       "      <td>82</td>\n",
       "      <td>No</td>\n",
       "      <td>4</td>\n",
       "      <td>2</td>\n",
       "      <td>65.0</td>\n",
       "    </tr>\n",
       "    <tr>\n",
       "      <th>2</th>\n",
       "      <td>8</td>\n",
       "      <td>51</td>\n",
       "      <td>Yes</td>\n",
       "      <td>7</td>\n",
       "      <td>2</td>\n",
       "      <td>45.0</td>\n",
       "    </tr>\n",
       "    <tr>\n",
       "      <th>3</th>\n",
       "      <td>5</td>\n",
       "      <td>52</td>\n",
       "      <td>Yes</td>\n",
       "      <td>5</td>\n",
       "      <td>2</td>\n",
       "      <td>36.0</td>\n",
       "    </tr>\n",
       "    <tr>\n",
       "      <th>4</th>\n",
       "      <td>7</td>\n",
       "      <td>75</td>\n",
       "      <td>No</td>\n",
       "      <td>8</td>\n",
       "      <td>5</td>\n",
       "      <td>66.0</td>\n",
       "    </tr>\n",
       "  </tbody>\n",
       "</table>\n",
       "</div>"
      ],
      "text/plain": [
       "   Hours Studied  Previous Scores Extracurricular Activities  Sleep Hours  \\\n",
       "0              7               99                        Yes            9   \n",
       "1              4               82                         No            4   \n",
       "2              8               51                        Yes            7   \n",
       "3              5               52                        Yes            5   \n",
       "4              7               75                         No            8   \n",
       "\n",
       "   Sample Question Papers Practiced  Performance Index  \n",
       "0                                 1               91.0  \n",
       "1                                 2               65.0  \n",
       "2                                 2               45.0  \n",
       "3                                 2               36.0  \n",
       "4                                 5               66.0  "
      ]
     },
     "execution_count": 2,
     "metadata": {},
     "output_type": "execute_result"
    }
   ],
   "source": [
    "df = pd.read_csv(\"Student_Performance.csv\")\n",
    "df.head()"
   ]
  },
  {
   "cell_type": "code",
   "execution_count": 3,
   "id": "4353d524",
   "metadata": {},
   "outputs": [
    {
     "data": {
      "text/plain": [
       "(10000, 6)"
      ]
     },
     "execution_count": 3,
     "metadata": {},
     "output_type": "execute_result"
    }
   ],
   "source": [
    "df.shape"
   ]
  },
  {
   "cell_type": "code",
   "execution_count": 4,
   "id": "60ff37bc",
   "metadata": {},
   "outputs": [
    {
     "name": "stdout",
     "output_type": "stream",
     "text": [
      "<class 'pandas.core.frame.DataFrame'>\n",
      "RangeIndex: 10000 entries, 0 to 9999\n",
      "Data columns (total 6 columns):\n",
      " #   Column                            Non-Null Count  Dtype  \n",
      "---  ------                            --------------  -----  \n",
      " 0   Hours Studied                     10000 non-null  int64  \n",
      " 1   Previous Scores                   10000 non-null  int64  \n",
      " 2   Extracurricular Activities        10000 non-null  object \n",
      " 3   Sleep Hours                       10000 non-null  int64  \n",
      " 4   Sample Question Papers Practiced  10000 non-null  int64  \n",
      " 5   Performance Index                 10000 non-null  float64\n",
      "dtypes: float64(1), int64(4), object(1)\n",
      "memory usage: 468.9+ KB\n"
     ]
    }
   ],
   "source": [
    "df.info()"
   ]
  },
  {
   "cell_type": "code",
   "execution_count": 5,
   "id": "4423d71b",
   "metadata": {},
   "outputs": [
    {
     "data": {
      "text/plain": [
       "Hours Studied                       0\n",
       "Previous Scores                     0\n",
       "Extracurricular Activities          0\n",
       "Sleep Hours                         0\n",
       "Sample Question Papers Practiced    0\n",
       "Performance Index                   0\n",
       "dtype: int64"
      ]
     },
     "execution_count": 5,
     "metadata": {},
     "output_type": "execute_result"
    }
   ],
   "source": [
    "df.isna().sum()"
   ]
  },
  {
   "cell_type": "code",
   "execution_count": 6,
   "id": "f917c298",
   "metadata": {
    "scrolled": false
   },
   "outputs": [],
   "source": [
    "df.rename(columns={\"Sample Question Papers Practiced\": \"Sample Questions\"}, inplace=True)"
   ]
  },
  {
   "cell_type": "code",
   "execution_count": 7,
   "id": "67d89a42",
   "metadata": {
    "scrolled": false
   },
   "outputs": [
    {
     "data": {
      "image/png": "[encoded data removed]",
      "text/plain": [
       "<Figure size 400x300 with 2 Axes>"
      ]
     },
     "metadata": {},
     "output_type": "display_data"
    }
   ],
   "source": [
    "numerical_features = [\"Hours Studied\", \"Previous Scores\", \"Sleep Hours\", \"Sample Questions\"]\n",
    "\n",
    "\n",
    "plt.figure(figsize=(4, 3))\n",
    "\n",
    "# Calculate the correlation matrix for the numerical columns\n",
    "correlation_matrix = df[numerical_features].corr()\n",
    "\n",
    "# Create a heatmap using the correlation matrix\n",
    "sns.heatmap(correlation_matrix, annot=True, cmap='coolwarm')\n",
    "\n",
    "# Set the title of the heatmap\n",
    "plt.title('Correlation Heatmap')\n",
    "\n",
    "# Display the heatmap\n",
    "plt.show()\n",
    "\n"
   ]
  },
  {
   "cell_type": "code",
   "execution_count": 8,
   "id": "23adde1f",
   "metadata": {},
   "outputs": [],
   "source": [
    "df.replace(to_replace=[\"No\",\"Yes\"], value=[0,1], inplace=True)"
   ]
  },
  {
   "cell_type": "code",
   "execution_count": 9,
   "id": "16b046a6",
   "metadata": {},
   "outputs": [
    {
     "data": {
      "text/html": [
       "<div>\n",
       "<style scoped>\n",
       "    .dataframe tbody tr th:only-of-type {\n",
       "        vertical-align: middle;\n",
       "    }\n",
       "\n",
       "    .dataframe tbody tr th {\n",
       "        vertical-align: top;\n",
       "    }\n",
       "\n",
       "    .dataframe thead th {\n",
       "        text-align: right;\n",
       "    }\n",
       "</style>\n",
       "<table border=\"1\" class=\"dataframe\">\n",
       "  <thead>\n",
       "    <tr style=\"text-align: right;\">\n",
       "      <th></th>\n",
       "      <th>Hours Studied</th>\n",
       "      <th>Previous Scores</th>\n",
       "      <th>Extracurricular Activities</th>\n",
       "      <th>Sleep Hours</th>\n",
       "      <th>Sample Questions</th>\n",
       "      <th>Performance Index</th>\n",
       "    </tr>\n",
       "  </thead>\n",
       "  <tbody>\n",
       "    <tr>\n",
       "      <th>0</th>\n",
       "      <td>7</td>\n",
       "      <td>99</td>\n",
       "      <td>1</td>\n",
       "      <td>9</td>\n",
       "      <td>1</td>\n",
       "      <td>91.0</td>\n",
       "    </tr>\n",
       "    <tr>\n",
       "      <th>1</th>\n",
       "      <td>4</td>\n",
       "      <td>82</td>\n",
       "      <td>0</td>\n",
       "      <td>4</td>\n",
       "      <td>2</td>\n",
       "      <td>65.0</td>\n",
       "    </tr>\n",
       "    <tr>\n",
       "      <th>2</th>\n",
       "      <td>8</td>\n",
       "      <td>51</td>\n",
       "      <td>1</td>\n",
       "      <td>7</td>\n",
       "      <td>2</td>\n",
       "      <td>45.0</td>\n",
       "    </tr>\n",
       "    <tr>\n",
       "      <th>3</th>\n",
       "      <td>5</td>\n",
       "      <td>52</td>\n",
       "      <td>1</td>\n",
       "      <td>5</td>\n",
       "      <td>2</td>\n",
       "      <td>36.0</td>\n",
       "    </tr>\n",
       "    <tr>\n",
       "      <th>4</th>\n",
       "      <td>7</td>\n",
       "      <td>75</td>\n",
       "      <td>0</td>\n",
       "      <td>8</td>\n",
       "      <td>5</td>\n",
       "      <td>66.0</td>\n",
       "    </tr>\n",
       "  </tbody>\n",
       "</table>\n",
       "</div>"
      ],
      "text/plain": [
       "   Hours Studied  Previous Scores  Extracurricular Activities  Sleep Hours  \\\n",
       "0              7               99                           1            9   \n",
       "1              4               82                           0            4   \n",
       "2              8               51                           1            7   \n",
       "3              5               52                           1            5   \n",
       "4              7               75                           0            8   \n",
       "\n",
       "   Sample Questions  Performance Index  \n",
       "0                 1               91.0  \n",
       "1                 2               65.0  \n",
       "2                 2               45.0  \n",
       "3                 2               36.0  \n",
       "4                 5               66.0  "
      ]
     },
     "execution_count": 9,
     "metadata": {},
     "output_type": "execute_result"
    }
   ],
   "source": [
    "df.head()"
   ]
  },
  {
   "cell_type": "code",
   "execution_count": 10,
   "id": "9172ad5d",
   "metadata": {},
   "outputs": [],
   "source": [
    "def train_test_split(df, ratio):\n",
    "    num_of_rows = int(len(df) * ratio)\n",
    "    df = df.sample(frac = 1)\n",
    "    train_set = df[:num_of_rows]\n",
    "    test_set = df[num_of_rows:]\n",
    "    return train_set, test_set\n",
    "\n",
    "train_set, test_set = train_test_split(df, 0.70)"
   ]
  },
  {
   "cell_type": "code",
   "execution_count": 11,
   "id": "d08dfad5",
   "metadata": {},
   "outputs": [],
   "source": [
    "X_train = train_set[[\"Hours Studied\", \"Previous Scores\", \"Extracurricular Activities\", \"Sleep Hours\", \"Sample Questions\"]]\n",
    "y_train = train_set[[\"Performance Index\"]]\n",
    "\n",
    "X_test = test_set[[\"Hours Studied\", \"Previous Scores\", \"Extracurricular Activities\", \"Sleep Hours\", \"Sample Questions\"]]\n",
    "y_test = test_set[[\"Performance Index\"]]"
   ]
  },
  {
   "cell_type": "code",
   "execution_count": 12,
   "id": "70ed7052",
   "metadata": {},
   "outputs": [
    {
     "data": {
      "text/plain": [
       "array([[ 4, 93,  0,  8,  5],\n",
       "       [ 2, 92,  0,  4,  1],\n",
       "       [ 2, 95,  0,  5,  5],\n",
       "       ...,\n",
       "       [ 8, 97,  0,  6,  3],\n",
       "       [ 9, 96,  0,  9,  3],\n",
       "       [ 7, 60,  0,  7,  7]], dtype=int64)"
      ]
     },
     "execution_count": 12,
     "metadata": {},
     "output_type": "execute_result"
    }
   ],
   "source": [
    "X_train = X_train.values\n",
    "X_test = X_test.values\n",
    "y_train = y_train.values\n",
    "y_test = y_test.values\n",
    "\n",
    "X_train"
   ]
  },
  {
   "cell_type": "code",
   "execution_count": 13,
   "id": "01e896d8",
   "metadata": {},
   "outputs": [],
   "source": [
    "def mae(y_preds, y):\n",
    "    mae = (np.abs(y-y_preds)).mean()\n",
    "    return mae\n",
    "\n",
    "def mse(y_preds, y):\n",
    "    mse = ((y - y_preds)**2).mean()\n",
    "    return mse\n",
    "\n",
    "def rmse(y_preds, y):\n",
    "    rmse = (((y - y_preds)**2).mean())**(1/2)\n",
    "    return rmse\n",
    "\n",
    "def nrmse(y_preds, y):\n",
    "    nrmse = rmse(y_preds, y) / ((y.max() - y.min()))\n",
    "    return nrmse\n",
    "\n",
    "def r2(y_preds, y):\n",
    "    ssr = sum((y - y_preds) ** 2) \n",
    "    sst = sum((y - y.mean()) ** 2) \n",
    "    return 1 - ssr/sst"
   ]
  },
  {
   "cell_type": "code",
   "execution_count": 14,
   "id": "42163f7e",
   "metadata": {},
   "outputs": [],
   "source": [
    "class Multiple_Linear_Regression:\n",
    "    \n",
    "    def __init__(self, learning_rate = 0.00015, n_iterations = 100000):\n",
    "        self.learning_rate = learning_rate\n",
    "        self.n_iterations = n_iterations\n",
    "        self.weights, self.bias = None, None\n",
    "        self.loss = []\n",
    "    \n",
    "    @staticmethod\n",
    "    def _mean_squared_error(y, y_hat):\n",
    "        return (1/(len(y)))*np.sum(np.square(y_hat - y))\n",
    "    \n",
    "    def fit(self, X, y):\n",
    "        self.weights = np.zeros((X.shape[1], 1))\n",
    "        self.bias = 0\n",
    "        \n",
    "        for i in range(self.n_iterations):\n",
    "            y_hat = np.dot(X, self.weights) + self.bias\n",
    "            loss = self._mean_squared_error(y, y_hat)\n",
    "            self.loss.append(loss)\n",
    "            \n",
    "            partial_w = (1 / X.shape[0]) * (2 * np.dot(X.T, (y_hat - y)))\n",
    "            partial_d = (1 / X.shape[0]) * (2 * np.sum(y_hat-y))\n",
    "            \n",
    "            self.weights -= self.learning_rate * partial_w\n",
    "            self.bias -= self.learning_rate * partial_d\n",
    "            \n",
    "    def predict(self, X):\n",
    "        return np.dot(X, self.weights) + self.bias"
   ]
  },
  {
   "cell_type": "code",
   "execution_count": 15,
   "id": "b3c38980",
   "metadata": {},
   "outputs": [],
   "source": [
    "model = Multiple_Linear_Regression()"
   ]
  },
  {
   "cell_type": "code",
   "execution_count": 16,
   "id": "9b3bb3b3",
   "metadata": {},
   "outputs": [
    {
     "name": "stderr",
     "output_type": "stream",
     "text": [
      "\n",
      "KeyboardInterrupt\n",
      "\n"
     ]
    }
   ],
   "source": [
    "model.fit(X_train, y_train)"
   ]
  },
  {
   "cell_type": "code",
   "execution_count": null,
   "id": "7fd20f41",
   "metadata": {},
   "outputs": [],
   "source": [
    "preds = model.predict(X_test)"
   ]
  },
  {
   "cell_type": "code",
   "execution_count": null,
   "id": "ad95f2b1",
   "metadata": {},
   "outputs": [],
   "source": [
    "xs = np.arange(len(model.loss))\n",
    "ys = model.loss\n",
    "\n",
    "plt.plot(xs, ys)\n",
    "plt.show()"
   ]
  },
  {
   "cell_type": "code",
   "execution_count": null,
   "id": "bddaae70",
   "metadata": {},
   "outputs": [],
   "source": [
    "MAE = mae(preds, y_test)\n",
    "MSE = mse(preds, y_test)\n",
    "RMSE = rmse(preds, y_test)\n",
    "NRMSE = nrmse(preds, y_test)\n",
    "R2 = r2(preds, y_test)\n",
    "print(\"MAE: \", MAE)\n",
    "print(\"MSE: \", MSE)\n",
    "print(\"RMSE: \", RMSE)\n",
    "print(\"NRMSE: \", NRMSE)\n",
    "print(\"R2: \", R2)"
   ]
  },
  {
   "cell_type": "markdown",
   "id": "80103e58",
   "metadata": {},
   "source": [
    "# Cross Validation"
   ]
  },
  {
   "cell_type": "code",
   "execution_count": null,
   "id": "3e76b3bc",
   "metadata": {},
   "outputs": [],
   "source": [
    "def kfold_indices(data_length, k):\n",
    "    fold_size = data_length // k\n",
    "    indices = np.arange(data_length)\n",
    "    folds = []\n",
    "    for i in range(k):\n",
    "        test_indices = indices[i * fold_size: (i + 1) * fold_size]\n",
    "        train_indices = np.concatenate([indices[:i * fold_size], indices[(i + 1) * fold_size:]])\n",
    "        folds.append((train_indices, test_indices))\n",
    "    return folds"
   ]
  },
  {
   "cell_type": "code",
   "execution_count": null,
   "id": "f1063bac",
   "metadata": {},
   "outputs": [],
   "source": [
    "X = df[[\"Hours Studied\", \"Previous Scores\", \"Extracurricular Activities\", \"Sleep Hours\", \"Sample Questions\"]]\n",
    "y = df[[\"Performance Index\"]]"
   ]
  },
  {
   "cell_type": "code",
   "execution_count": null,
   "id": "a834db13",
   "metadata": {
    "scrolled": true
   },
   "outputs": [],
   "source": [
    "fold_indices = kfold_indices(10000, 5)"
   ]
  },
  {
   "cell_type": "code",
   "execution_count": null,
   "id": "51200a1d",
   "metadata": {},
   "outputs": [],
   "source": [
    "scores = []\n",
    "for train_indices, test_indices in fold_indices:\n",
    "    X_train, y_train = X.loc[train_indices], y.loc[train_indices]\n",
    "    X_test, y_test = X.loc[test_indices], y.loc[test_indices]\n",
    "    \n",
    "    X_train = X_train.values\n",
    "    X_test = X_test.values\n",
    "    y_train = y_train.values\n",
    "    y_test = y_test.values\n",
    "    \n",
    "\n",
    "    model.fit(X_train, y_train)\n",
    "    \n",
    "    y_pred = model.predict(X_test)\n",
    "    \n",
    "    fold_score = rmse(y_test, y_pred)\n",
    "    \n",
    "    scores.append(fold_score)\n",
    "    \n",
    "mean_rmse = np.mean(scores)\n",
    "print(\"K-Fold Cross-Validation Scores:\", scores)\n",
    "print(\"Mean RMSE:\", mean_rmse)"
   ]
  },
  {
   "cell_type": "code",
   "execution_count": null,
   "id": "09462b1d",
   "metadata": {},
   "outputs": [],
   "source": []
  }
 ],
 "metadata": {
  "kernelspec": {
   "display_name": "Python 3 (ipykernel)",
   "language": "python",
   "name": "python3"
  },
  "language_info": {
   "codemirror_mode": {
    "name": "ipython",
    "version": 3
   },
   "file_extension": ".py",
   "mimetype": "text/x-python",
   "name": "python",
   "nbconvert_exporter": "python",
   "pygments_lexer": "ipython3",
   "version": "3.10.9"
  }
 },
 "nbformat": 4,
 "nbformat_minor": 5
}
